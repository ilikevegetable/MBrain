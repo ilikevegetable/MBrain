{
 "cells": [
  {
   "cell_type": "code",
   "execution_count": 82,
   "id": "metropolitan-emerald",
   "metadata": {},
   "outputs": [],
   "source": [
    "import numpy as np\n",
    "import os\n",
    "import pickle\n",
    "from data.data_utils import *\n",
    "from data.dataloader_ssl import load_dataset_ssl\n",
    "from data.dataloader_detection import load_dataset_detection\n",
    "from constants import *"
   ]
  },
  {
   "metadata": {},
   "cell_type": "code",
   "outputs": [],
   "execution_count": null,
   "source": "# You have to modify the path below.",
   "id": "b0d598e06ce56260"
  },
  {
   "cell_type": "code",
   "execution_count": 10,
   "id": "compliant-percentage",
   "metadata": {},
   "outputs": [],
   "source": [
    "adj_mat_dir = './data/electrode_graph/adj_mx_3d.pkl'\n",
    "\n",
    "with open(adj_mat_dir, 'rb') as pf:\n",
    "    adj_mat = pickle.load(pf)\n",
    "    adj_mat = adj_mat[-1]"
   ]
  },
  {
   "cell_type": "code",
   "execution_count": 41,
   "id": "amateur-fight",
   "metadata": {},
   "outputs": [],
   "source": [
    "_, datasets, scaler = load_dataset_ssl(\n",
    "    input_dir='/data/TUSZ_reasmple',\n",
    "    raw_data_dir='/data/TUSZ',\n",
    "    train_batch_size=7,\n",
    "    test_batch_size=7,\n",
    "    time_step_size=1,\n",
    "    input_len=12,\n",
    "    output_len=12,\n",
    "    standardize=True,\n",
    "    num_workers=8,\n",
    "    augmentation=False,\n",
    "    adj_mat_dir='./data/electrode_graph/adj_mx_3d.pkl',\n",
    "    graph_type='combined',\n",
    "    top_k=3,\n",
    "    filter_type='laplacian',\n",
    "    use_fft=False,\n",
    "    preproc_dir=None\n",
    ")\n"
   ]
  },
  {
   "cell_type": "code",
   "execution_count": 88,
   "id": "accredited-supervision",
   "metadata": {},
   "outputs": [
    {
     "name": "stdout",
     "output_type": "stream",
     "text": [
      "number of seizure files:  13646\n",
      "Number of clips in train: 27292\n",
      "Number of clips in dev: 28057\n",
      "Number of clips in test: 44959\n"
     ]
    }
   ],
   "source": [
    "_, detection_datasets, _ =load_dataset_detection(\n",
    "    input_dir='/data/TUSZ_reasmple',\n",
    "    raw_data_dir='/data/TUSZ',\n",
    "    train_batch_size=7,\n",
    "    test_batch_size=7,\n",
    "    time_step_size=1,\n",
    "    max_seq_len=12,\n",
    "    standardize=True,\n",
    "    num_workers=8,\n",
    "    augmentation=False,\n",
    "    adj_mat_dir='./data/electrode_graph/adj_mx_3d.pkl',\n",
    "    graph_type='combined',\n",
    "    top_k=3,\n",
    "    filter_type='laplacian',\n",
    "    use_fft=False,\n",
    "    sampling_ratio=1,\n",
    "    seed=10,\n",
    "    preproc_dir=None,\n",
    ")"
   ]
  },
  {
   "cell_type": "code",
   "execution_count": 42,
   "id": "optimum-thomson",
   "metadata": {},
   "outputs": [
    {
     "data": {
      "text/plain": [
       "{'train': <data.dataloader_ssl.SeizureDataset at 0x7fbd8fec0c10>,\n",
       " 'dev': <data.dataloader_ssl.SeizureDataset at 0x7fbeb36b36d0>,\n",
       " 'test': <data.dataloader_ssl.SeizureDataset at 0x7fbd8fec0760>}"
      ]
     },
     "execution_count": 42,
     "metadata": {},
     "output_type": "execute_result"
    }
   ],
   "source": [
    "datasets"
   ]
  },
  {
   "cell_type": "code",
   "execution_count": 89,
   "id": "frozen-belgium",
   "metadata": {},
   "outputs": [
    {
     "data": {
      "text/plain": [
       "{'train': <data.dataloader_detection.SeizureDataset at 0x7fbeb2b75580>,\n",
       " 'dev': <data.dataloader_detection.SeizureDataset at 0x7fbd4905deb0>,\n",
       " 'test': <data.dataloader_detection.SeizureDataset at 0x7fbeb34786d0>}"
      ]
     },
     "execution_count": 89,
     "metadata": {},
     "output_type": "execute_result"
    }
   ],
   "source": [
    "detection_datasets"
   ]
  },
  {
   "cell_type": "code",
   "execution_count": 43,
   "id": "republican-diploma",
   "metadata": {},
   "outputs": [],
   "source": [
    "train_set_ssl = datasets['train']\n",
    "dev_set_ssl = datasets['dev']\n",
    "test_set_ssl = datasets['test']"
   ]
  },
  {
   "cell_type": "code",
   "execution_count": 90,
   "id": "moderate-slovenia",
   "metadata": {},
   "outputs": [
    {
     "name": "stdout",
     "output_type": "stream",
     "text": [
      "training set: 27292\n",
      "validation set: 28057\n",
      "testing set: 44959\n"
     ]
    }
   ],
   "source": [
    "train_set_det = detection_datasets['train']\n",
    "dev_set_det = detection_datasets['dev']\n",
    "test_set_det = detection_datasets['test']"
   ]
  },
  {
   "cell_type": "code",
   "execution_count": 93,
   "id": "cordless-optimization",
   "metadata": {},
   "outputs": [
    {
     "data": {
      "text/plain": [
       "torch.Size([12, 19, 200])"
      ]
     },
     "execution_count": 93,
     "metadata": {},
     "output_type": "execute_result"
    }
   ],
   "source": [
    "train_set_det[0][0].size()"
   ]
  },
  {
   "cell_type": "markdown",
   "id": "outside-perception",
   "metadata": {},
   "source": [
    "# Statistical Information\n",
    "## SSL dataset:\n",
    "### Sample size:\n",
    "1. training: 2700 * 12 * 19 * 200\n",
    "2. validation: 300 * 12 * 19 * 200\n",
    "\n",
    "## Train&Test&Val dataset:\n",
    "### Sample size:\n",
    "1. training: 2400 * 12 * 19 * 200\n",
    "2. validation: 600 * 12 * 19 * 200\n",
    "3. testing: 3900 * 12 * 19 * 200"
   ]
  },
  {
   "cell_type": "markdown",
   "id": "italian-qatar",
   "metadata": {},
   "source": [
    "# EEG database generation"
   ]
  },
  {
   "cell_type": "code",
   "execution_count": 99,
   "id": "minor-algorithm",
   "metadata": {
    "collapsed": true,
    "jupyter": {
     "outputs_hidden": true
    }
   },
   "outputs": [
    {
     "data": {
      "text/plain": [
       "array([[[-35.745934  , -40.66693   , -35.91564   , ...,   8.490601  ,\n",
       "           0.46872663,  -7.520901  ],\n",
       "        [-46.802982  , -46.37525   , -41.00268   , ...,   7.1955004 ,\n",
       "          -1.1872213 , -11.204208  ],\n",
       "        [-51.609562  , -52.843307  , -48.513218  , ..., -21.573282  ,\n",
       "         -30.002481  , -36.658726  ],\n",
       "        ...,\n",
       "        [-72.727234  , -72.62722   , -67.358475  , ..., -42.114433  ,\n",
       "         -51.35033   , -59.054707  ],\n",
       "        [-42.76837   , -41.847393  , -36.6317    , ..., -36.58768   ,\n",
       "         -41.499382  , -46.518955  ],\n",
       "        [ -1.1577948 ,  -0.8255753 ,   4.6585774 , ...,  -1.4473364 ,\n",
       "          -4.146161  ,  -6.230305  ]],\n",
       "\n",
       "       [[-11.692073  , -20.343641  , -19.421991  , ...,  33.943066  ,\n",
       "          46.822598  ,  59.09726   ],\n",
       "        [-16.464197  , -23.827961  , -24.651245  , ...,  29.848948  ,\n",
       "          41.259216  ,  53.955677  ],\n",
       "        [-40.128345  , -45.840836  , -44.30438   , ...,  20.112703  ,\n",
       "          29.609285  ,  41.033188  ],\n",
       "        ...,\n",
       "        [-63.18551   , -71.45983   , -70.142715  , ...,   7.534851  ,\n",
       "          14.233235  ,  23.426596  ],\n",
       "        [-48.024223  , -54.282032  , -51.643482  , ...,   1.3673958 ,\n",
       "           1.9526913 ,  -2.2596147 ],\n",
       "        [ -8.395441  , -13.207232  , -11.028478  , ...,  25.00286   ,\n",
       "          21.898598  ,  12.605294  ]],\n",
       "\n",
       "       [[ 77.92757   ,  71.17148   ,  62.8334    , ...,  29.105455  ,\n",
       "          27.313208  ,  25.571575  ],\n",
       "        [ 61.82295   ,  58.94448   ,  55.371212  , ...,  22.737484  ,\n",
       "          20.635773  ,  21.33211   ],\n",
       "        [ 66.81563   ,  59.35372   ,  37.546272  , ...,  24.832619  ,\n",
       "          17.294203  ,   9.693357  ],\n",
       "        ...,\n",
       "        [ 52.89678   ,  60.4639    ,  43.02976   , ...,   3.2405114 ,\n",
       "          -4.025425  , -12.713223  ],\n",
       "        [ 19.248196  ,  39.49139   ,  48.456276  , ...,  -5.5087237 ,\n",
       "          -8.712176  , -12.063997  ],\n",
       "        [ 23.745546  ,  40.37116   ,  56.499687  , ...,  12.806992  ,\n",
       "          13.695847  ,  16.652958  ]],\n",
       "\n",
       "       ...,\n",
       "\n",
       "       [[-10.384772  ,  -6.7496753 ,   5.7065797 , ..., -44.82362   ,\n",
       "         -46.222668  , -38.043392  ],\n",
       "        [-13.8803425 ,   0.34595808,  10.036631  , ..., -33.01666   ,\n",
       "         -44.309185  , -39.351574  ],\n",
       "        [-27.016111  , -19.660053  , -10.890946  , ..., -64.09569   ,\n",
       "         -46.16372   , -35.757774  ],\n",
       "        ...,\n",
       "        [-35.479637  , -23.81566   , -10.140928  , ..., -99.685326  ,\n",
       "         -90.51335   , -74.10259   ],\n",
       "        [-47.388054  , -37.967667  , -24.776773  , ..., -66.12365   ,\n",
       "         -63.027916  , -61.0474    ],\n",
       "        [-33.384983  , -27.274109  , -14.494213  , ..., -27.45247   ,\n",
       "         -25.952162  , -27.369516  ]],\n",
       "\n",
       "       [[-32.38545   , -17.245453  ,  -3.714222  , ..., -63.320618  ,\n",
       "         -46.980244  , -23.745354  ],\n",
       "        [-31.95513   , -27.329647  , -15.88278   , ..., -79.09332   ,\n",
       "         -65.52664   , -42.529007  ],\n",
       "        [-31.225727  , -23.92748   , -12.297988  , ...,  16.944645  ,\n",
       "          22.545042  ,  29.872381  ],\n",
       "        ...,\n",
       "        [-59.814606  , -51.875927  , -40.55187   , ...,  -6.937152  ,\n",
       "           0.59564143,  11.678475  ],\n",
       "        [-60.22132   , -61.699818  , -55.607323  , ...,  27.166752  ,\n",
       "          32.44718   ,  36.038933  ],\n",
       "        [-37.050945  , -47.550266  , -45.749374  , ...,  51.073814  ,\n",
       "          54.53734   ,  56.874043  ]],\n",
       "\n",
       "       [[-14.571573  ,  -4.705473  ,  -0.16237606, ...,  -4.569907  ,\n",
       "          30.586676  ,  19.357225  ],\n",
       "        [-29.593258  , -17.461422  , -13.10268   , ..., -15.23347   ,\n",
       "          19.971884  ,  12.280691  ],\n",
       "        [ 26.079092  ,  26.845102  ,  23.048048  , ...,  -6.903385  ,\n",
       "           4.3563495 , -43.05766   ],\n",
       "        ...,\n",
       "        [  9.904692  ,  12.673231  ,   7.635781  , ..., -19.23866   ,\n",
       "           3.395408  , -39.723812  ],\n",
       "        [ 30.136696  ,  31.816261  ,  26.5275    , ..., -10.014226  ,\n",
       "         -12.316235  , -51.966125  ],\n",
       "        [ 51.58589   ,  52.84269   ,  51.793713  , ...,  11.90356   ,\n",
       "           1.0094001 , -24.796846  ]]], dtype=float32)"
      ]
     },
     "execution_count": 99,
     "metadata": {},
     "output_type": "execute_result"
    }
   ],
   "source": [
    "train_set_det[0][0]"
   ]
  },
  {
   "cell_type": "code",
   "execution_count": 100,
   "id": "junior-casting",
   "metadata": {},
   "outputs": [],
   "source": [
    "ssl_train_idx = np.random.choice(len(train_set_ssl), 2700, replace=False)\n",
    "ssl_val_idx = np.random.choice(len(dev_set_ssl), 300, replace=False)\n",
    "\n",
    "train_idx = np.random.choice(len(train_set_det), 2400, replace=False)\n",
    "val_idx = np.random.choice(len(dev_set_det), 600, replace=False)\n",
    "test_idx = np.random.choice(len(test_set_det), 3900, replace=False)"
   ]
  },
  {
   "cell_type": "code",
   "execution_count": 123,
   "id": "elementary-shanghai",
   "metadata": {},
   "outputs": [
    {
     "name": "stdout",
     "output_type": "stream",
     "text": [
      "ssl done: 208.72148847579956\n",
      "train done: 349.81030559539795\n",
      "val done: 385.46712350845337\n",
      "test done: 653.7382099628448\n"
     ]
    }
   ],
   "source": [
    "import time\n",
    "start_time=time.time()\n",
    "\n",
    "ssl_train_data = [train_set_ssl[i][0].numpy() for i in ssl_train_idx]\n",
    "ssl_val_data = [dev_set_ssl[i][0].numpy() for i in ssl_val_idx]\n",
    "\n",
    "train_data = [train_set_det[i][0].numpy() for i in train_idx]\n",
    "train_label = [train_set_det[i][1].numpy() for i in train_idx]\n",
    "\n",
    "val_data = [dev_set_det[i][0].numpy() for i in val_idx]\n",
    "val_label = [dev_set_det[i][1].numpy() for i in val_idx]\n",
    "\n",
    "test_data = [test_set_det[i][0].numpy() for i in test_idx]\n",
    "test_label = [test_set_det[i][1].numpy() for i in test_idx]"
   ]
  },
  {
   "cell_type": "code",
   "execution_count": 128,
   "id": "potential-facial",
   "metadata": {},
   "outputs": [],
   "source": [
    "save_dir = '/data/EEG_database/'\n",
    "np.savez_compressed(os.path.join(save_dir, 'ssl_train_data.npz'), a=np.array(ssl_train_data))\n",
    "np.savez_compressed(os.path.join(save_dir, 'ssl_val_data.npz'), a=np.array(ssl_val_data))\n",
    "\n",
    "np.savez_compressed(os.path.join(save_dir, 'train_data.npz'), a=np.array(train_data))\n",
    "np.savez_compressed(os.path.join(save_dir, 'train_label.npz'), a=np.array(train_label))\n",
    "\n",
    "np.savez_compressed(os.path.join(save_dir, 'val_data.npz'), a=np.array(val_data))\n",
    "np.savez_compressed(os.path.join(save_dir, 'val_label.npz'), a=np.array(val_label))\n",
    "\n",
    "np.savez_compressed(os.path.join(save_dir, 'test_data.npz'), a=np.array(test_data))\n",
    "np.savez_compressed(os.path.join(save_dir, 'test_label.npz'), a=np.array(test_label))"
   ]
  },
  {
   "cell_type": "code",
   "execution_count": null,
   "id": "lined-attachment",
   "metadata": {},
   "outputs": [],
   "source": []
  },
  {
   "cell_type": "code",
   "execution_count": null,
   "id": "ruled-intranet",
   "metadata": {},
   "outputs": [],
   "source": []
  },
  {
   "cell_type": "code",
   "execution_count": null,
   "id": "western-journalist",
   "metadata": {},
   "outputs": [],
   "source": []
  }
 ],
 "metadata": {
  "kernelspec": {
   "display_name": "Python 3 (ipykernel)",
   "language": "python",
   "name": "python3"
  },
  "language_info": {
   "codemirror_mode": {
    "name": "ipython",
    "version": 3
   },
   "file_extension": ".py",
   "mimetype": "text/x-python",
   "name": "python",
   "nbconvert_exporter": "python",
   "pygments_lexer": "ipython3",
   "version": "3.12.2"
  }
 },
 "nbformat": 4,
 "nbformat_minor": 5
}
